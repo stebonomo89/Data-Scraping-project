{
 "cells": [
  {
   "cell_type": "markdown",
   "id": "561ebef8",
   "metadata": {},
   "source": [
    "# Commands to get free images from open website as Google.\n",
    "This can be very useful to create your own dataset of images in a very short time."
   ]
  },
  {
   "cell_type": "code",
   "execution_count": 19,
   "id": "32c5683f",
   "metadata": {},
   "outputs": [
    {
     "name": "stdout",
     "output_type": "stream",
     "text": [
      "Requirement already satisfied: mechanicalsoup in ./opt/anaconda3/lib/python3.9/site-packages (1.2.0)\n",
      "Requirement already satisfied: beautifulsoup4>=4.7 in ./opt/anaconda3/lib/python3.9/site-packages (from mechanicalsoup) (4.11.1)\n",
      "Requirement already satisfied: lxml in ./opt/anaconda3/lib/python3.9/site-packages (from mechanicalsoup) (4.8.0)\n",
      "Requirement already satisfied: requests>=2.22.0 in ./opt/anaconda3/lib/python3.9/site-packages (from mechanicalsoup) (2.27.1)\n",
      "Requirement already satisfied: soupsieve>1.2 in ./opt/anaconda3/lib/python3.9/site-packages (from beautifulsoup4>=4.7->mechanicalsoup) (2.3.1)\n",
      "Requirement already satisfied: idna<4,>=2.5 in ./opt/anaconda3/lib/python3.9/site-packages (from requests>=2.22.0->mechanicalsoup) (3.3)\n",
      "Requirement already satisfied: urllib3<1.27,>=1.21.1 in ./opt/anaconda3/lib/python3.9/site-packages (from requests>=2.22.0->mechanicalsoup) (1.26.9)\n",
      "Requirement already satisfied: charset-normalizer~=2.0.0 in ./opt/anaconda3/lib/python3.9/site-packages (from requests>=2.22.0->mechanicalsoup) (2.0.4)\n",
      "Requirement already satisfied: certifi>=2017.4.17 in ./opt/anaconda3/lib/python3.9/site-packages (from requests>=2.22.0->mechanicalsoup) (2021.10.8)\n",
      "Note: you may need to restart the kernel to use updated packages.\n"
     ]
    }
   ],
   "source": [
    "pip install mechanicalsoup"
   ]
  },
  {
   "cell_type": "code",
   "execution_count": 38,
   "id": "b595ce94",
   "metadata": {},
   "outputs": [],
   "source": [
    "import mechanicalsoup"
   ]
  },
  {
   "cell_type": "code",
   "execution_count": 39,
   "id": "5a833292",
   "metadata": {},
   "outputs": [],
   "source": [
    "browser = mechanicalsoup.StatefulBrowser()         #we create this object to enter commands"
   ]
  },
  {
   "cell_type": "code",
   "execution_count": 40,
   "id": "48afd8f0",
   "metadata": {},
   "outputs": [
    {
     "name": "stdout",
     "output_type": "stream",
     "text": [
      "https://www.google.it/imghp?hl=it&tab=wi\n"
     ]
    }
   ],
   "source": [
    "url = \"https://www.google.it/imghp?hl=it&tab=wi\"   #select the correct URL depending on your country\n",
    "browser.open(url)                                  #select Google images and not Google\n",
    "print(browser.get_url())"
   ]
  },
  {
   "cell_type": "code",
   "execution_count": 41,
   "id": "7308d619",
   "metadata": {},
   "outputs": [
    {
     "name": "stdout",
     "output_type": "stream",
     "text": [
      "<input name=\"tbm\" type=\"hidden\" value=\"isch\"/>\n",
      "<input name=\"ie\" type=\"hidden\" value=\"ISO-8859-1\"/>\n",
      "<input name=\"hl\" type=\"hidden\" value=\"it\"/>\n",
      "<input name=\"source\" type=\"hidden\" value=\"hp\"/>\n",
      "<input name=\"biw\" type=\"hidden\"/>\n",
      "<input name=\"bih\" type=\"hidden\"/>\n",
      "<input autocomplete=\"off\" class=\"lst\" maxlength=\"2048\" name=\"q\" size=\"57\" style=\"margin:0;padding:5px 8px 0 6px;vertical-align:top;color:#000\" title=\"Cerca immagini\" value=\"\"/>\n",
      "<input class=\"lsb\" name=\"btnG\" type=\"submit\" value=\"Cerca immagini\"/>\n",
      "<input id=\"gbv\" name=\"gbv\" type=\"hidden\" value=\"1\"/>\n",
      "new url: https://www.google.it/search?tbm=isch&ie=ISO-8859-1&hl=it&source=hp&biw=&bih=&q=seaside+wallpaper&btnG=Cerca+immagini&gbv=1\n",
      "my responde:\n",
      " <!DOCTYPE html PUBLIC \"-//WAPFORUM//DTD XHTML Mobile 1.0//EN\" \"http://www.wapforum.org/DTD/xhtml-mobile10.dtd\"><html xmlns=\"http://www.w3.org/1999/xhtml\" lang=\"it\"><head><meta content=\"application/xhtml+xml; charset=UTF-8\" http-equiv=\"Content-Type\"/><meta content=\"no-cache\" name=\"Cache-Control\"/><title>seaside wallpaper - Cerca con Google</title><style>a{text-decoration:none;color:inherit}a:hover{text-decoration:underline}a img{border:0}body{font-family:arial,sans-serif;padding:8px;margin:0 auto\n"
     ]
    }
   ],
   "source": [
    "#get HTML\n",
    "browser.get_current_page()\n",
    "\n",
    "#target the search input\n",
    "browser.select_form()\n",
    "browser.get_current_form().print_summary()\n",
    "\n",
    "#search for a term\n",
    "search_term = 'seaside wallpaper'     #assign to this variable exactly what you need to get from Google images\n",
    "browser['q'] = search_term\n",
    "\n",
    "#submit/\"click\" search\n",
    "browser.launch_browser()\n",
    "response = browser.submit_selected()\n",
    "\n",
    "print('new url:', browser.get_url())\n",
    "print('my responde:\\n', response.text[:500])"
   ]
  },
  {
   "cell_type": "code",
   "execution_count": 42,
   "id": "87aea297",
   "metadata": {},
   "outputs": [
    {
     "data": {
      "text/plain": [
       "['/images/branding/searchlogo/1x/googlelogo_desk_heirloom_color_150x55dp.gif',\n",
       " 'https://encrypted-tbn0.gstatic.com/images?q=tbn:ANd9GcTt1-bpkN4s-N1FlO9fWLta1J0ld-mVCdDx_8Ej8BXUxwNPAUtofo4Ib-y31Q&s',\n",
       " 'https://encrypted-tbn0.gstatic.com/images?q=tbn:ANd9GcTUQIW7CZuvilUmtSvUbUNeNc-Ep8sWVnbDGbZxgDFeW2-oFUku5QaIaLIiHtA&s',\n",
       " 'https://encrypted-tbn0.gstatic.com/images?q=tbn:ANd9GcQWuecOyP7TQ30yio8MwdB_SAXAq0OMgx5ml5qhJhftrLrRxz1gd_HbLqLptkU&s',\n",
       " 'https://encrypted-tbn0.gstatic.com/images?q=tbn:ANd9GcQjEQT6hCQd9cSdM85_JNmRR_UtaZEg3yKa2K3XR2xpSMOMp_hXG9fYcP3nxQ&s',\n",
       " 'https://encrypted-tbn0.gstatic.com/images?q=tbn:ANd9GcRM-ZUd2jCRBfAjjw3ZvejmQGc0JYDdfIIEh5fVAalL-7fkS-XPP6lG-HboeA&s',\n",
       " 'https://encrypted-tbn0.gstatic.com/images?q=tbn:ANd9GcQ8Wzh39qlPSrnF1Ku_-xjc-1NbPUwncpaCTdhRsQoKcON0A9SnNuPhiWOVgg&s',\n",
       " 'https://encrypted-tbn0.gstatic.com/images?q=tbn:ANd9GcRuBXV3aVKbmqD5-KrAgwvWV3rQuZdp-8GPjEicM91tn61CxO8FXsjD4jS8Eg&s',\n",
       " 'https://encrypted-tbn0.gstatic.com/images?q=tbn:ANd9GcQrqTqwoc_VbJl-M29x1pySekrZDo_97J9MM6o5RtiZZBG77NM6-iIEvBcQ-Q&s',\n",
       " 'https://encrypted-tbn0.gstatic.com/images?q=tbn:ANd9GcT5wGMd0kBO9tpYa7M1aMniYyKMGlkigPvOo3GZ3Cuv1w8q-6y52iDWa-dUCis&s',\n",
       " 'https://encrypted-tbn0.gstatic.com/images?q=tbn:ANd9GcSVbR37rehtB6Na9DMniT7hyIxgW_AEE3Swod4YsmM9AjEuf2GUWEbPwd1_ai8&s',\n",
       " 'https://encrypted-tbn0.gstatic.com/images?q=tbn:ANd9GcQYLKAZOluHeWvYxzJLm3-rrIMKq220hYZFqEJnfJ1rKxdHddPyz33V9_hdXA&s',\n",
       " 'https://encrypted-tbn0.gstatic.com/images?q=tbn:ANd9GcRqGnw9V4miHoDbi5YUSVzEfjmcQQ0ZMKy86qHSKXdZTBG0o6CnSSUNW6HOoA&s',\n",
       " 'https://encrypted-tbn0.gstatic.com/images?q=tbn:ANd9GcQOnqbQFVDiA-E9o2NKROuzbVJm0wmOeylMhWy-BEN6bSlMP_walBj1CoKIby0&s',\n",
       " 'https://encrypted-tbn0.gstatic.com/images?q=tbn:ANd9GcRZLzM9Lwnf5oTzA4OIq3mAPGhmhYnZ8H4PG70knZvrNkBPHw4MArQ03yidbMs&s',\n",
       " 'https://encrypted-tbn0.gstatic.com/images?q=tbn:ANd9GcTOD20XRtyMqwp69XgonJFztiAYDeFFaej-w5x8nIaVCjjZmzlhUZanP2YdEg&s',\n",
       " 'https://encrypted-tbn0.gstatic.com/images?q=tbn:ANd9GcQDEmFVnobr5qZJlMziOaTADUrTG7cTExi57zwZCZqUHUWER6rtpOo40goXa2o&s',\n",
       " 'https://encrypted-tbn0.gstatic.com/images?q=tbn:ANd9GcRHcz9gYyRIWIq5in5_-yxZbzcRjEa9XTXZ351bjtwbmlu33KDkhFGTw8fnKQ&s',\n",
       " 'https://encrypted-tbn0.gstatic.com/images?q=tbn:ANd9GcRgB53IBVztJjAaYMp4U4U4vu75uRBvaIJYg6jQhFdrneJbLBaYthyz9LEQ5pA&s',\n",
       " 'https://encrypted-tbn0.gstatic.com/images?q=tbn:ANd9GcRt8jDglcEhsTSmuDm07jHYKLv11m2NqzYIyYxVT9uYelBR3oMyMN6WlKIB1g&s',\n",
       " 'https://encrypted-tbn0.gstatic.com/images?q=tbn:ANd9GcSHibmdYbPa2xpiKsc-wgRBhFyh3IJG_Y4HqJmQW7OvFGPtgYqZEm5LowfhZJM&s']"
      ]
     },
     "execution_count": 42,
     "metadata": {},
     "output_type": "execute_result"
    }
   ],
   "source": [
    "#open new URL\n",
    "new_url = browser.get_url()\n",
    "browser.open(new_url)\n",
    "\n",
    "#get HTML\n",
    "page = browser.get_current_page()\n",
    "all_images = page.find_all('img')\n",
    "all_images\n",
    "\n",
    "#target the source attribute\n",
    "image_source = []\n",
    "for image in all_images:\n",
    "    image = image.get('src')\n",
    "    image_source.append(image)\n",
    "image_source\n",
    "\n"
   ]
  },
  {
   "cell_type": "code",
   "execution_count": 43,
   "id": "89dd5829",
   "metadata": {},
   "outputs": [
    {
     "data": {
      "text/plain": [
       "['https://encrypted-tbn0.gstatic.com/images?q=tbn:ANd9GcTt1-bpkN4s-N1FlO9fWLta1J0ld-mVCdDx_8Ej8BXUxwNPAUtofo4Ib-y31Q&s',\n",
       " 'https://encrypted-tbn0.gstatic.com/images?q=tbn:ANd9GcTUQIW7CZuvilUmtSvUbUNeNc-Ep8sWVnbDGbZxgDFeW2-oFUku5QaIaLIiHtA&s',\n",
       " 'https://encrypted-tbn0.gstatic.com/images?q=tbn:ANd9GcQWuecOyP7TQ30yio8MwdB_SAXAq0OMgx5ml5qhJhftrLrRxz1gd_HbLqLptkU&s',\n",
       " 'https://encrypted-tbn0.gstatic.com/images?q=tbn:ANd9GcQjEQT6hCQd9cSdM85_JNmRR_UtaZEg3yKa2K3XR2xpSMOMp_hXG9fYcP3nxQ&s',\n",
       " 'https://encrypted-tbn0.gstatic.com/images?q=tbn:ANd9GcRM-ZUd2jCRBfAjjw3ZvejmQGc0JYDdfIIEh5fVAalL-7fkS-XPP6lG-HboeA&s',\n",
       " 'https://encrypted-tbn0.gstatic.com/images?q=tbn:ANd9GcQ8Wzh39qlPSrnF1Ku_-xjc-1NbPUwncpaCTdhRsQoKcON0A9SnNuPhiWOVgg&s',\n",
       " 'https://encrypted-tbn0.gstatic.com/images?q=tbn:ANd9GcRuBXV3aVKbmqD5-KrAgwvWV3rQuZdp-8GPjEicM91tn61CxO8FXsjD4jS8Eg&s',\n",
       " 'https://encrypted-tbn0.gstatic.com/images?q=tbn:ANd9GcQrqTqwoc_VbJl-M29x1pySekrZDo_97J9MM6o5RtiZZBG77NM6-iIEvBcQ-Q&s',\n",
       " 'https://encrypted-tbn0.gstatic.com/images?q=tbn:ANd9GcT5wGMd0kBO9tpYa7M1aMniYyKMGlkigPvOo3GZ3Cuv1w8q-6y52iDWa-dUCis&s',\n",
       " 'https://encrypted-tbn0.gstatic.com/images?q=tbn:ANd9GcSVbR37rehtB6Na9DMniT7hyIxgW_AEE3Swod4YsmM9AjEuf2GUWEbPwd1_ai8&s',\n",
       " 'https://encrypted-tbn0.gstatic.com/images?q=tbn:ANd9GcQYLKAZOluHeWvYxzJLm3-rrIMKq220hYZFqEJnfJ1rKxdHddPyz33V9_hdXA&s',\n",
       " 'https://encrypted-tbn0.gstatic.com/images?q=tbn:ANd9GcRqGnw9V4miHoDbi5YUSVzEfjmcQQ0ZMKy86qHSKXdZTBG0o6CnSSUNW6HOoA&s',\n",
       " 'https://encrypted-tbn0.gstatic.com/images?q=tbn:ANd9GcQOnqbQFVDiA-E9o2NKROuzbVJm0wmOeylMhWy-BEN6bSlMP_walBj1CoKIby0&s',\n",
       " 'https://encrypted-tbn0.gstatic.com/images?q=tbn:ANd9GcRZLzM9Lwnf5oTzA4OIq3mAPGhmhYnZ8H4PG70knZvrNkBPHw4MArQ03yidbMs&s',\n",
       " 'https://encrypted-tbn0.gstatic.com/images?q=tbn:ANd9GcTOD20XRtyMqwp69XgonJFztiAYDeFFaej-w5x8nIaVCjjZmzlhUZanP2YdEg&s',\n",
       " 'https://encrypted-tbn0.gstatic.com/images?q=tbn:ANd9GcQDEmFVnobr5qZJlMziOaTADUrTG7cTExi57zwZCZqUHUWER6rtpOo40goXa2o&s',\n",
       " 'https://encrypted-tbn0.gstatic.com/images?q=tbn:ANd9GcRHcz9gYyRIWIq5in5_-yxZbzcRjEa9XTXZ351bjtwbmlu33KDkhFGTw8fnKQ&s',\n",
       " 'https://encrypted-tbn0.gstatic.com/images?q=tbn:ANd9GcRgB53IBVztJjAaYMp4U4U4vu75uRBvaIJYg6jQhFdrneJbLBaYthyz9LEQ5pA&s',\n",
       " 'https://encrypted-tbn0.gstatic.com/images?q=tbn:ANd9GcRt8jDglcEhsTSmuDm07jHYKLv11m2NqzYIyYxVT9uYelBR3oMyMN6WlKIB1g&s',\n",
       " 'https://encrypted-tbn0.gstatic.com/images?q=tbn:ANd9GcSHibmdYbPa2xpiKsc-wgRBhFyh3IJG_Y4HqJmQW7OvFGPtgYqZEm5LowfhZJM&s']"
      ]
     },
     "execution_count": 43,
     "metadata": {},
     "output_type": "execute_result"
    }
   ],
   "source": [
    "image_source = [image for image in image_source if image.startswith('https')] #to select only \"good\" links\n",
    "                                                                         #getting rid of incomplete/\"bad\"ones\n",
    "image_source"
   ]
  },
  {
   "cell_type": "code",
   "execution_count": 44,
   "id": "1068affd",
   "metadata": {},
   "outputs": [
    {
     "name": "stdout",
     "output_type": "stream",
     "text": [
      "Requirement already satisfied: wget in ./opt/anaconda3/lib/python3.9/site-packages (3.2)\n",
      "Note: you may need to restart the kernel to use updated packages.\n"
     ]
    }
   ],
   "source": [
    "pip install wget"
   ]
  },
  {
   "cell_type": "code",
   "execution_count": 45,
   "id": "43d68ffd",
   "metadata": {},
   "outputs": [
    {
     "data": {
      "text/plain": [
       "'/Users/stebono/seaside wallpaper'"
      ]
     },
     "execution_count": 45,
     "metadata": {},
     "output_type": "execute_result"
    }
   ],
   "source": [
    "import os\n",
    "import wget\n",
    "\n",
    "path = os.getcwd()\n",
    "path = os.path.join(path, search_term)     #it will create a new folder named as search_term's assigned value\n",
    "                                           #and you will find inside all the downloaded images \n",
    "\n",
    "#create the directory\n",
    "os.mkdir(path)\n",
    "\n",
    "path"
   ]
  },
  {
   "cell_type": "code",
   "execution_count": 46,
   "id": "29fa66ce",
   "metadata": {},
   "outputs": [
    {
     "name": "stdout",
     "output_type": "stream",
     "text": [
      "100% [............................................................] 3356 / 3356"
     ]
    }
   ],
   "source": [
    "#download images\n",
    "counter = 0\n",
    "for j in range(0,250):\n",
    "    for image in image_source:\n",
    "        save_as = os.path.join(path, search_term + str(counter) + '.jpg')\n",
    "        wget.download(image, save_as)\n",
    "        counter += 1\n",
    "    page(\"window.scrollTo(0, document.body.scrollHeight)\")\n",
    "    "
   ]
  },
  {
   "cell_type": "code",
   "execution_count": null,
   "id": "7aa239af",
   "metadata": {},
   "outputs": [],
   "source": []
  }
 ],
 "metadata": {
  "kernelspec": {
   "display_name": "Python 3 (ipykernel)",
   "language": "python",
   "name": "python3"
  },
  "language_info": {
   "codemirror_mode": {
    "name": "ipython",
    "version": 3
   },
   "file_extension": ".py",
   "mimetype": "text/x-python",
   "name": "python",
   "nbconvert_exporter": "python",
   "pygments_lexer": "ipython3",
   "version": "3.9.12"
  }
 },
 "nbformat": 4,
 "nbformat_minor": 5
}
